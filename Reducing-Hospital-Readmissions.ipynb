{
 "cells": [
  {
   "cell_type": "markdown",
   "id": "e6195c81",
   "metadata": {},
   "source": [
    "# Reducing Hospital Readmission"
   ]
  },
  {
   "cell_type": "markdown",
   "id": "8bdbdac1",
   "metadata": {},
   "source": [
    "## Table of contents\n",
    "\n",
    "1. Itroduction\n",
    "2. Executive summary\n",
    "3. Data and Methods\n",
    "4. Expolratory Data Analysis (EDA) \n",
    "5. Further consideration\n",
    "6. Conclusions and Recommendations\n",
    "7. Annex"
   ]
  },
  {
   "cell_type": "markdown",
   "id": "05ce4d0d",
   "metadata": {},
   "source": [
    "## Introduction\n",
    "\n",
    "Hospital readmission is a problem in healthcare where patients are discharged from the hospital and then readmitted within a certain period of time, often within 30 days of their initial discharge. This is a costly and preventable problem that can negatively impact patients' health outcomes and quality of life. Causes of readmissions include inadequate care during initial hospitalization and poor discharge planning. Patients with chronic conditions, such as heart failure, diabetes, and respiratory disease, are at a particularly high risk of readmission. \n",
    "\n",
    "Hospital readmissions are also an important quality of care measure in healthcare. The Centers for Medicare and Medicaid Services (CMS) implemented a Hospital Readmissions Reduction Program (HRRP) in 2012, which financially penalizes hospitals with higher-than-expected readmission rates for certain conditions. The goal of this program is to incentivize hospitals to improve care coordination and reduce preventable readmissions.\n",
    "\n",
    "To reduce readmissions, interventions such as improved care coordination, enhanced patient education, and medication management are implemented.Additionally, involving patients and their caregivers in the discharge planning process and providing education about their condition and self-care management can also improve patient outcomes and reduce readmissions. These findings highlight the importance of implementing evidence-based strategies to reduce hospital readmissions and improve patient outcomes in healthcare.\n",
    "\n",
    "Machine learning and artificial intelligence (AI) algorithms are also used to predict which patients are at the highest risk of readmission and enable healthcare providers to intervene proactively to prevent readmissions."
   ]
  },
  {
   "cell_type": "markdown",
   "id": "61e1f3d9",
   "metadata": {},
   "source": [
    "## 3. Data and Methods\n",
    "As a company, we have access to a dataset that contains patient information spanning over a period of ten years.([source](https://archive.ics.uci.edu/ml/datasets/Diabetes+130-US+hospitals+for+years+1999-2008)):\n",
    "\n",
    "**Information in the Dataset**\n",
    "\n",
    "- \"age\" - age bracket of the patient\n",
    "- \"time_in_hospital\" - days (from 1 to 14)\n",
    "- \"n_procedures\" - number of procedures performed during the hospital stay\n",
    "- \"n_lab_procedures\" - number of laboratory procedures performed during the hospital stay\n",
    "- \"n_medications\" - number of medications administered during the hospital stay\n",
    "- \"n_outpatient\" - number of outpatient visits in the year before a hospital stay\n",
    "- \"n_inpatient\" - number of inpatient visits in the year before the hospital stay\n",
    "- \"n_emergency\" - number of visits to the emergency room in the year before the hospital stay\n",
    "- \"medical_specialty\" - the specialty of the admitting physician\n",
    "- \"diag_1\" - primary diagnosis (Circulatory, Respiratory, Digestive, etc.)\n",
    "- \"diag_2\" - secondary diagnosis\n",
    "- \"diag_3\" - additional secondary diagnosis\n",
    "- \"glucose_test\" - whether the glucose serum came out as high (> 200), normal, or not performed\n",
    "- \"A1Ctest\" - whether the A1C level of the patient came out as high (> 7%), normal, or not performed\n",
    "- \"change\" - whether there was a change in the diabetes medication ('yes' or 'no')\n",
    "- \"diabetes_med\" - whether a diabetes medication was prescribed ('yes' or 'no')\n",
    "- \"readmitted\" - if the patient was readmitted at the hospital ('yes' or 'no') \n",
    "\n",
    "**Remarks on the data:**<br>\n",
    "The dataframe contains 25000 rows and 17 columns, with no missing values or duplicate rows. Most of the numeric columns exhibit positive skewness, likely due to a significant number of outliers, which totalled 11181. To prevent the loss of important information during analysis, we retained these outliers.\n",
    "\n",
    "**Methods**<br>\n",
    "Our exploratory data analysis involved various methodologies, including data cleaning, data visualization, statistical analysis, and machine learning algorithms. To clean the data, we used Pandas to handle missing values, and outliers, and transform variables as necessary. We also used Scikit-learn tools, such as One-Hot-Encoder, to prepare the data for machine learning algorithms. For visualization, we employed Matplotlib and Seaborn to create various plots, including barplots, lineplots, and heat maps, to identify patterns and relationships. Additionally, we utilized the Pingouin library for statistical analysis, including the Chi-square test to understand relationships between variables. For machine learning, we implemented various algorithms, such as k-Nearest Neighbors, Logistic Regression, and Random Forests, and evaluated the models based on accuracy, precision, recall, F1 score, and cross-validation."
   ]
  },
  {
   "cell_type": "code",
   "execution_count": null,
   "id": "110b28ed",
   "metadata": {},
   "outputs": [],
   "source": []
  }
 ],
 "metadata": {
  "kernelspec": {
   "display_name": "Python 3 (ipykernel)",
   "language": "python",
   "name": "python3"
  },
  "language_info": {
   "codemirror_mode": {
    "name": "ipython",
    "version": 3
   },
   "file_extension": ".py",
   "mimetype": "text/x-python",
   "name": "python",
   "nbconvert_exporter": "python",
   "pygments_lexer": "ipython3",
   "version": "3.10.9"
  }
 },
 "nbformat": 4,
 "nbformat_minor": 5
}
